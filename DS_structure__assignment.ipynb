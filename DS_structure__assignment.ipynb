{
  "nbformat": 4,
  "nbformat_minor": 0,
  "metadata": {
    "colab": {
      "provenance": []
    },
    "kernelspec": {
      "name": "python3",
      "display_name": "Python 3"
    },
    "language_info": {
      "name": "python"
    }
  },
  "cells": [
    {
      "cell_type": "markdown",
      "source": [
        "**Data Types and Structures Questions**\n",
        "\n",
        "1. What are data structures, and why are they important...?\n",
        "->\n",
        "A data structure is a specialized way of organizing, managing, and storing data in a computer so that it can be accessed and modified efficiently. Data structures define the relationship between the data and the operations that can be performed on them.\n",
        "\n",
        "Common types of data structures include:\n",
        "\n",
        "Arrays – a collection of elements identified by index.\n",
        "\n",
        "Linked Lists – a sequence of nodes where each node points to the next.\n",
        "\n",
        "Stacks – a last-in, first-out (LIFO) structure.\n",
        "\n",
        "Queues – a first-in, first-out (FIFO) structure.\n",
        "\n",
        "Trees – hierarchical data structures like binary trees or heaps.\n",
        "\n",
        "Graphs – a set of connected nodes, used for modeling networks.\n",
        "\n",
        "Hash Tables – store key-value pairs for fast lookups.\n",
        "\n",
        "Why Are Data Structures Important?\n",
        "\n",
        "Efficient Data Management\n",
        "They allow for the efficient storage and retrieval of data. For example, hash tables can retrieve data in constant time\n",
        "O\n",
        "(\n",
        "1\n",
        ")\n",
        "O(1), while arrays and linked lists allow sequential access.\n",
        "\n",
        "Better Performance\n",
        "Choosing the right data structure can significantly improve the performance of an algorithm or application by reducing time and space complexity.\n",
        "\n",
        "Code Reusability and Abstraction\n",
        "Many data structures come with built-in methods (like .push() in stacks or .insert() in trees), which simplify code and increase reusability.\n",
        "\n",
        "Problem Solving\n",
        "Most computer science problems require using appropriate data structures. For example:\n",
        "\n",
        "Trees are used in file systems and databases.\n",
        "\n",
        "Graphs are used in networking and social media platforms.\n",
        "\n",
        "Queues are used in task scheduling.\n",
        "\n",
        "Foundation for Algorithms\n",
        "Many algorithms (searching, sorting, pathfinding) rely on specific data structures for optimal performance.\n",
        "\n",
        "2. Explain the difference between mutable and immutable data types with examples..?\n",
        "\n",
        "-> In Python, mutability refers to whether an object’s value can be changed after it is created.\n",
        "\n",
        "  * Mutable Data Types\n",
        "Definition: Objects whose values can be changed after they are created.\n",
        "\n",
        "Examples: list, dict, set, bytearray\n",
        "my_list = [1, 2, 3]\n",
        "my_list[0] = 100\n",
        "print(my_list)  # Output: [100, 2, 3]\n",
        "\n",
        "  * Immutable Data Types\n",
        "Definition: Objects whose values cannot be changed after they are created. Any operation that seems to modify them creates a new object instead.\n",
        "\n",
        "Examples: int, float, str, tuple, bool, frozenset\n",
        "my_str = \"hello\"\n",
        "my_str[0] = \"H\"  # This will raise an error: strings are immutable\n",
        "\n",
        "3. What are the main differences between lists and tuples in Python...?\n",
        "\n",
        "-> Main Differences Between Lists and Tuples in Python\n",
        "Both lists and tuples are used to store collections of items, but they have key differences in mutability, syntax, performance, and usage.\n",
        "\n",
        "1. Mutability\n",
        "Feature\tList\tTuple\n",
        "Can be changed\t Yes (Mutable)  No (Immutable)\n",
        "\n",
        "python\n",
        "Copy\n",
        "Edit\n",
        "# List (Mutable)\n",
        "my_list = [1, 2, 3]\n",
        "my_list[0] = 10\n",
        "print(my_list)  # [10, 2, 3]\n",
        "\n",
        "# Tuple (Immutable)\n",
        "my_tuple = (1, 2, 3)\n",
        "# my_tuple[0] = 10  #  Raises TypeError\n",
        " 2. Syntax\n",
        "List: Uses square brackets []\n",
        "\n",
        "Tuple: Uses parentheses ()\n",
        "\n",
        "python\n",
        "Copy\n",
        "Edit\n",
        "list_example = [1, 2, 3]\n",
        "tuple_example = (1, 2, 3)  3. Performance\n",
        "Tuples are faster than lists when it comes to iteration and access.\n",
        "\n",
        "Because they are immutable, Python can optimize memory and execution for tuples.\n",
        "\n",
        " 4. Usage\n",
        "Lists: Used when you need a dynamic collection of items (that may change).\n",
        "\n",
        "Tuples: Used when you need a fixed, unchangeable collection (e.g., coordinates, constant data).\n",
        "\n",
        " 5. Hashability\n",
        "Tuples (containing only immutable items) are hashable and can be used as dictionary keys or in sets.\n",
        "\n",
        "Lists are not hashable.\n",
        "\n",
        "python\n",
        "Copy\n",
        "Edit\n",
        "# Valid tuple key\n",
        "my_dict = {(1, 2): \"a point\"}  #  Works\n",
        "\n",
        "# Invalid list key\n",
        "# my_dict = {[1, 2]: \"a point\"}  # TypeError\n",
        "\n",
        "4. Describe how dictionaries store data..?\n",
        "\n",
        "-> A dictionary in Python is a collection of key-value pairs. It is an unordered, mutable, and indexed data structure that allows fast lookup, insertion, and deletion using keys.\n",
        "A dictionary stores data as pairs:\n",
        "\n",
        "yaml\n",
        "Copy\n",
        "Edit\n",
        "{key1: value1, key2: value2, ...}\n",
        "Example:\n",
        "\n",
        "python\n",
        "Copy\n",
        "Edit\n",
        "student =\n",
        "    \"name\": \"Alice\",\n",
        "    \"age\": 20,\n",
        "    \"grade\": \"A\"\n",
        "Here:\n",
        "\n",
        "\"name\", \"age\", \"grade\" are keys\n",
        "\n",
        "\"pallavi\", 25, \"A\" are values\n",
        "\n",
        " How Python Stores Data Internally\n",
        "Dictionaries use a hash table under the hood. Here’s how it works:\n",
        "\n",
        "Hashing:\n",
        "\n",
        "Each key is passed through a hash function (hash(key)) that converts it into an integer (the hash).\n",
        "\n",
        "This hash determines where the key-value pair is stored in memory (its index in an internal array).\n",
        "\n",
        "Index Mapping:\n",
        "\n",
        "The hash value is used to find a bucket (slot) in the internal array.\n",
        "\n",
        "The key-value pair is stored in that bucket.\n",
        "\n",
        "Collision Handling:\n",
        "\n",
        "If two keys hash to the same index (a collision), Python handles it using open addressing or chaining internally (you don’t have to worry about it in most cases).\n",
        "\n",
        "  Mutable and Dynamic\n",
        "You can add, update, or delete key-value pairs.\n",
        "\n",
        "Keys must be unique and immutable (str, int, tuple, etc.).\n",
        "\n",
        "Values can be of any type (even other dictionaries or lists).\n",
        "\n",
        "python\n",
        "Copy\n",
        "Edit\n",
        "# Add a new key-value pair\n",
        "student[\"email\"] = \"pallavi@example.com\"\n",
        "\n",
        "# Update a value\n",
        "student[\"age\"] = 21\n",
        "\n",
        "# Delete a key-value pair\n",
        "del student[\"grade\"]\n",
        "\n",
        "5. Why might you use a set instead of a list in Python...?\n",
        "\n",
        "-> A set and a list are both used to store collections of items — but they serve different purposes. You might choose a set over a list for several key reasons:\n",
        "    * . To Automatically Remove Duplicates\n",
        "        Sets do not allow duplicate values, while lists do.\n",
        "        my_list = [1, 2, 2, 3]\n",
        "        my_set = set(my_list)\n",
        "       print(my_set)  # Output: {1, 2, 3}\n",
        "\n",
        "6. What is a string in Python, and how is it different from a list..?\n",
        "\n",
        "->  A string in Python is a sequence of characters enclosed in single ('), double (\"), or triple quotes (''' or \"\"\").\n",
        "\n",
        "    my_string = \"Hello, World!\"\n",
        "    another_string = 'Python'\n",
        "    multiline_string = \"\"\"This is\n",
        "    a multi-line string.\"\"\"\n",
        "    \n",
        "    . A string is immutable, meaning once created, it cannot be changed.\n",
        "\n",
        "    . It is indexed and iterable, just like a list.\n",
        "\n",
        "7. How do tuples ensure data integrity in Python..?\n",
        "\n",
        "-> Tuples in Python are used to store immutable sequences of values. Because of their immutability, they help ensure data integrity — meaning the data remains unchanged and trustworthy throughout your program.\n",
        "  1. Immutability = No Accidental Changes\n",
        "Once a tuple is created, it cannot be modified — you can’t add, remove, or change elements.\n",
        "    my_tuple = (1, 2, 3)\n",
        "  # my_tuple[0] = 10  #  Raises TypeError\n",
        "  This prevents bugs caused by accidental modification of data.\n",
        "\n",
        "8. What is a hash table, and how does it relate to dictionaries in Python...?\n",
        "\n",
        "-> What Is a Hash Table?\n",
        "A hash table is a data structure that stores data in an associative manner — meaning it stores key-value pairs, and uses a hash function to compute an index into an array of buckets, from which the desired value can be found quickly.\n",
        "\n",
        " How Does It Work?\n",
        "Hash Function:\n",
        "\n",
        "Converts a key (like a string or number) into an integer (called a hash).\n",
        "\n",
        "Index Calculation:\n",
        "\n",
        "The hash is used to find an index in an internal array.\n",
        "\n",
        "Storing Data:\n",
        "\n",
        "The key-value pair is stored at that index.\n",
        "\n",
        "Collision Handling:\n",
        "\n",
        "If two keys hash to the same index, Python uses techniques like open addressing or chaining to store both entries safely.\n",
        "\n",
        "How Is This Related to Dictionaries in Python?\n",
        "In Python, the built-in dict type is implemented using a hash table under the hood.\n",
        "\n",
        "9. Can lists contain different data types in Python...?\n",
        "\n",
        "-> Yes, Lists Can Contain Different Data Types in Python\n",
        "One of the powerful features of Python lists is their ability to store heterogeneous (mixed) data types in a single list.\n",
        "\n",
        "10. Explain why strings are immutable in Python...?\n",
        "\n",
        "-> In Python, strings are immutable, meaning once a string is created, you cannot change its content. Any \"modification\" creates a new string instead.\n",
        "\n",
        "11. Advantages of Dictionaries Over Lists in Python\n",
        "Both lists and dictionaries store collections of data — but dictionaries offer several key advantages for tasks involving associative data (key-value pairs) and fast lookups.\n",
        "\n",
        "12. Scenario Where a Tuple Is Preferable Over a List\n",
        " Scenario: Representing Coordinates in a 2D Space\n",
        "Let’s say you are building a program that tracks the positions of objects on a map — for example, (x, y) coordinates of a vehicle, marker, or game character.\n",
        "    position = (10, 25)  # x and y coordinates\n",
        "\n",
        "\n",
        "13. How do sets handle duplicate values in Python...?\n",
        "\n",
        "-> In Python, sets automatically remove duplicates — they are collections of unique elements.\n",
        "\n",
        " Key Behavior: No Duplicates Allowed\n",
        "When you create a set, any duplicate values are automatically discarded.\n",
        "\n",
        " Example:\n",
        "    my_set = {1, 2, 2, 3, 4, 4, 5}\n",
        "    print(my_set)\n",
        "\n",
        "    {1, 2, 3, 4, 5}\n",
        "\n",
        "\n",
        "14. How does the “in” keyword work differently for lists and dictionaries...?\n",
        "\n",
        "-> The in keyword is used to check for membership — but it behaves differently for lists and dictionaries based on what it checks for.\n",
        "\n",
        "\n",
        "    1. In a List – Checks for Values\n",
        "\n",
        "\n",
        "    fruits = [\"apple\", \"banana\", \"cherry\"]\n",
        "    print(\"banana\" in fruits)  #  True (checks values)\n",
        "    print(\"grape\" in fruits)   # False\n",
        "\n",
        "      . The in keyword checks whether the value exists in the list.\n",
        "      . It does not check indices or any other properties.\n",
        "\n",
        " 15. Can you modify the elements of a tuple? Explain why or why not..?\n",
        "\n",
        "->    No, you cannot modify the elements of a tuple — because tuples are immutable in Python.\n",
        "\n",
        "What Does \"Immutable\" Mean?\n",
        "    Once a tuple is created:\n",
        "\n",
        "  You cannot change, add, or remove its elements.\n",
        "\n",
        "  Any attempt to do so will raise a TypeError.\n",
        "\n",
        " Example:\n",
        "\n",
        "    my_tuple = (10, 20, 30)\n",
        "    my_tuple[0] = 100  #  Raises TypeError\n",
        "\n",
        "TypeError: 'tuple' object does not support item assignment\n",
        " Why Are Tuples Immutable?\n",
        "   Data Integrity:\n",
        "\n",
        "    Used to store fixed collections, like coordinates or settings that shouldn’t change.\n",
        "\n",
        "   Hashability:\n",
        "\n",
        "    Tuples can be used as dictionary keys or set elements only because they’re immutable.\n",
        "\n",
        "   Performance:\n",
        "\n",
        "    Tuples are faster and use less memory than lists due to their fixed size and immutability.\n",
        "\n",
        "   But What If the Tuple Contains Mutable Elements?\n",
        "Tuples themselves are immutable, but if they contain a mutable object (like a list), that object can still be changed.\n",
        "\n",
        " Example:\n",
        "\n",
        "    my_tuple = (1, [2, 3], 4)\n",
        "    my_tuple[1][0] = 99\n",
        "  print(my_tuple)  # Output: (1, [99, 3], 4)\n",
        "\n",
        "16. What is a nested dictionary, and give an example of its use case..?\n",
        "\n",
        "-> A nested dictionary is a dictionary inside another dictionary.\n",
        "It allows you to organize complex, hierarchical data using multiple levels of keys.\n",
        "\n",
        "Structure of a Nested Dictionary\n",
        "\n",
        "  nested_dict = {\n",
        "    \"user1\": {\"name\": \"Alice\", \"age\": 25},\n",
        "    \"user2\": {\"name\": \"Bob\", \"age\": 30}\n",
        "}\n",
        "\n",
        "    he outer dictionary maps user1 and user2 to their data.\n",
        "\n",
        "    Each value is another dictionary holding name and age.\n",
        "\n",
        "    Use Case Example: Student Records System\n",
        "\n",
        "Imagine you're building a system to store data about multiple students.\n",
        "\n",
        " Example:\n",
        "\n",
        "  students = {\n",
        "    \"101\": {\"name\": \"John\", \"grade\": \"A\", \"age\": 16},\n",
        "    \"102\": {\"name\": \"Emily\", \"grade\": \"B\", \"age\": 17},\n",
        "    \"103\": {\"name\": \"Raj\", \"grade\": \"A\", \"age\": 16}\n",
        "}\n",
        "\n",
        "\n",
        "17. Describe the time complexity of accessing elements in a dictionary...?\n",
        "\n",
        " Time Complexity of Accessing Elements in a Python Dictionary\n",
        "In Python, dictionaries are implemented using hash tables, which allow for very fast access to elements by their keys.\n",
        "\n",
        "18. In what situations are lists preferred over dictionaries...?\n",
        "\n",
        " -> While dictionaries are great for key-based access, lists are often better when you need to work with ordered, sequential data — especially when keys aren't necessary.\n",
        "\n",
        "19. Why are dictionaries considered unordered, and how does that affect data retrieval...?\n",
        "\n",
        "->What Does “Unordered” Mean in This Context?\n",
        "Traditionally, when we say a dictionary is unordered, it means that:\n",
        "\n",
        "The order in which key-value pairs are stored is not guaranteed to match the order in which they were inserted.\n",
        "\n",
        "So, when you iterate over a dictionary, the order might appear random or unexpected (especially in versions of Python before 3.7).\n",
        "\n",
        " As of Python 3.7+\n",
        "\n",
        "Dictionaries preserve insertion order as an implementation detail.\n",
        "\n",
        "In Python 3.7+, this behavior is guaranteed: the order you add items is the order you'll see them when iterating.\n",
        "\n",
        "my_dict = {\"a\": 1, \"b\": 2, \"c\": 3}\n",
        "for key in my_dict:\n",
        "    print(key)  # Output: a, b, c (insertion order)\n",
        " But even with ordering, a dictionary is still not a sequence (like a list), because you access items by key, not by index.\n",
        "\n",
        " Why Were Dictionaries Originally Unordered?.\n",
        "\n",
        "Dictionaries are implemented using hash tables.\n",
        "\n",
        "Keys are placed in memory based on their hash values, not their position.\n",
        "\n",
        "This makes lookup fast (O(1)), but traditionally meant no guaranteed order.\n",
        "\n",
        "20. Explain the difference between a list and a dictionary in terms of data retrievaL....?\n",
        "\n",
        "-> Both lists and dictionaries are built-in data structures in Python, but they differ significantly in how data is retrieved.\n",
        "\n",
        "\n",
        "1. Lists — Index-Based Retrieval\n",
        "\n",
        "Lists store data in a sequential, ordered manner.\n",
        "\n",
        "Elements are accessed using integer indices, starting from 0.\n",
        "\n",
        "Example:\n",
        "    fruits = [\"apple\", \"banana\", \"cherry\"]\n",
        "    print(fruits[1])  # Output: banana\n",
        "\n",
        " 2. Dictionaries — Key-Based Retrieval\n",
        "Dictionaries store data as key-value pairs.\n",
        "\n",
        "Elements are accessed using unique keys, not indices.\n",
        "\n",
        " Example:\n",
        "\n",
        "    person = {\"name\": \"pallavi\", \"age\": 25}\n",
        "    print(person[\"name\"])  # Output: Pallavi\n",
        "    \n",
        "\n",
        "\n",
        "\n",
        "\n",
        "\n",
        "\n",
        "\n",
        "\n"
      ],
      "metadata": {
        "id": "GRLvGsiYsI6S"
      }
    },
    {
      "cell_type": "markdown",
      "source": [
        "Practical Questions"
      ],
      "metadata": {
        "id": "EIuoMibE33yK"
      }
    },
    {
      "cell_type": "code",
      "source": [
        "1.#Write a code to create a string with your name and print it\n",
        "\n",
        "a=\"pallavi\"\n",
        "print(a)"
      ],
      "metadata": {
        "colab": {
          "base_uri": "https://localhost:8080/"
        },
        "id": "G6lDKqa6F4iX",
        "outputId": "956bde13-373c-4cda-9f05-645c3fc62aea"
      },
      "execution_count": 1,
      "outputs": [
        {
          "output_type": "stream",
          "name": "stdout",
          "text": [
            "pallavi\n"
          ]
        }
      ]
    },
    {
      "cell_type": "code",
      "source": [
        "2.#Write a code to find the length of the string \"Hello World\n",
        "\n",
        "print(\"hello world\")"
      ],
      "metadata": {
        "colab": {
          "base_uri": "https://localhost:8080/"
        },
        "id": "4woHV0QBHPGG",
        "outputId": "842d2904-6c38-465c-873c-bc943820dcf0"
      },
      "execution_count": 2,
      "outputs": [
        {
          "output_type": "stream",
          "name": "stdout",
          "text": [
            "hello world\n"
          ]
        }
      ]
    },
    {
      "cell_type": "code",
      "source": [
        "3. #Write a code to slice the first 3 characters from the string \"Python Programming\n",
        "word_2 = \"Python Programming\"\n",
        "word_2[:3]\n",
        "\n"
      ],
      "metadata": {
        "colab": {
          "base_uri": "https://localhost:8080/",
          "height": 36
        },
        "id": "T5w7r2OwHPBn",
        "outputId": "b6aa0983-89ce-4878-887e-1ae4fb108c64"
      },
      "execution_count": 3,
      "outputs": [
        {
          "output_type": "execute_result",
          "data": {
            "text/plain": [
              "'Pyt'"
            ],
            "application/vnd.google.colaboratory.intrinsic+json": {
              "type": "string"
            }
          },
          "metadata": {},
          "execution_count": 3
        }
      ]
    },
    {
      "cell_type": "code",
      "source": [
        "4.#Write a code to convert the string \"hello\" to uppercase\n",
        "word_3 = \"hello\"\n",
        "\n",
        "word_3.upper()\n",
        ""
      ],
      "metadata": {
        "colab": {
          "base_uri": "https://localhost:8080/",
          "height": 36
        },
        "id": "_SFuJjqtHO8t",
        "outputId": "f89a5ff6-33fe-4c1e-e55b-8714c7f46f87"
      },
      "execution_count": 4,
      "outputs": [
        {
          "output_type": "execute_result",
          "data": {
            "text/plain": [
              "'HELLO'"
            ],
            "application/vnd.google.colaboratory.intrinsic+json": {
              "type": "string"
            }
          },
          "metadata": {},
          "execution_count": 4
        }
      ]
    },
    {
      "cell_type": "code",
      "source": [
        "5. #Write a code to replace the word \"apple\" with \"orange\" in the string \"I like apple\"\n",
        "\n",
        "text = \"I like apple\"\n",
        "new_text = text.replace(\"apple\", \"orange\")\n",
        "print(new_text)\n"
      ],
      "metadata": {
        "colab": {
          "base_uri": "https://localhost:8080/"
        },
        "id": "Ltrtp7vDHO6U",
        "outputId": "7211cb21-ae6c-40bb-9487-7d36a542c321"
      },
      "execution_count": 1,
      "outputs": [
        {
          "output_type": "stream",
          "name": "stdout",
          "text": [
            "I like orange\n"
          ]
        }
      ]
    },
    {
      "cell_type": "code",
      "source": [
        "6.#Write a code to create a list with numbers 1 to 5 and print it\n",
        "\n",
        "numbers = [1, 2, 3, 4, 5]\n",
        "print(numbers)\n"
      ],
      "metadata": {
        "colab": {
          "base_uri": "https://localhost:8080/"
        },
        "id": "vRBxf0XbHO3-",
        "outputId": "1ef7a966-55de-4cfa-e3a2-4ff5a1921e7c"
      },
      "execution_count": 2,
      "outputs": [
        {
          "output_type": "stream",
          "name": "stdout",
          "text": [
            "[1, 2, 3, 4, 5]\n"
          ]
        }
      ]
    },
    {
      "cell_type": "code",
      "source": [
        "7. #Write a code to append the number 10 to the list [1, 2, 3, 4]\n",
        "\n",
        "numbers = [1, 2, 3, 4]\n",
        "numbers.append(10)\n",
        "print(numbers)"
      ],
      "metadata": {
        "colab": {
          "base_uri": "https://localhost:8080/"
        },
        "id": "ue9leD-KHO1V",
        "outputId": "8bc145ec-d376-43d4-a2b3-e318cb3eef20"
      },
      "execution_count": 3,
      "outputs": [
        {
          "output_type": "stream",
          "name": "stdout",
          "text": [
            "[1, 2, 3, 4, 10]\n"
          ]
        }
      ]
    },
    {
      "cell_type": "code",
      "source": [
        "8. #Write a code to remove the number 3 from the list [1, 2, 3, 4, 5]\n",
        "\n",
        "numbers = [1, 2, 3, 4, 5]\n",
        "numbers.remove(3)\n",
        "print(numbers)\n"
      ],
      "metadata": {
        "colab": {
          "base_uri": "https://localhost:8080/"
        },
        "id": "Z1pQPAw3HOyf",
        "outputId": "81226ba0-46be-4d0d-d6c9-2e2b9fa17ad0"
      },
      "execution_count": 4,
      "outputs": [
        {
          "output_type": "stream",
          "name": "stdout",
          "text": [
            "[1, 2, 4, 5]\n"
          ]
        }
      ]
    },
    {
      "cell_type": "code",
      "source": [
        "9. #Write a code to access the second element in the list ['a', 'b', 'c', 'd']\n",
        "\n",
        "letters = ['a', 'b', 'c', 'd']\n",
        "second_element = letters[1]\n",
        "print(second_element)"
      ],
      "metadata": {
        "colab": {
          "base_uri": "https://localhost:8080/"
        },
        "id": "FEgzSSaA6yOp",
        "outputId": "a6d5f22e-d6ce-48f9-c67a-080e5a4d6dfa"
      },
      "execution_count": 5,
      "outputs": [
        {
          "output_type": "stream",
          "name": "stdout",
          "text": [
            "b\n"
          ]
        }
      ]
    },
    {
      "cell_type": "code",
      "source": [
        "10.#Write a code to reverse the list [10, 20, 30, 40, 50]\n",
        "\n",
        "numbers = [10, 20, 30, 40, 50]\n",
        "numbers.reverse()\n",
        "print(numbers)"
      ],
      "metadata": {
        "colab": {
          "base_uri": "https://localhost:8080/"
        },
        "id": "xjexSOtl6yGE",
        "outputId": "c640c549-b212-4281-a433-196e5bdb60c0"
      },
      "execution_count": 6,
      "outputs": [
        {
          "output_type": "stream",
          "name": "stdout",
          "text": [
            "[50, 40, 30, 20, 10]\n"
          ]
        }
      ]
    },
    {
      "cell_type": "code",
      "source": [
        "11.# Write a code to create a tuple with the elements 100, 200, 300 and print it\n",
        "\n",
        "numbers = (100, 200, 300)\n",
        "print(numbers)"
      ],
      "metadata": {
        "colab": {
          "base_uri": "https://localhost:8080/"
        },
        "id": "YgmHAe-y6yDp",
        "outputId": "9cc27438-0bc4-4e9e-a4e5-94b963c66265"
      },
      "execution_count": 7,
      "outputs": [
        {
          "output_type": "stream",
          "name": "stdout",
          "text": [
            "(100, 200, 300)\n"
          ]
        }
      ]
    },
    {
      "cell_type": "code",
      "source": [
        "12.# Write a code to access the second-to-last element of the tuple ('red', 'green', 'blue', 'yellow').\n",
        "\n",
        "colors = ('red', 'green', 'blue', 'yellow')\n",
        "second_to_last_element = colors[-2]\n",
        "print(second_to_last_element)"
      ],
      "metadata": {
        "colab": {
          "base_uri": "https://localhost:8080/"
        },
        "id": "s7HAoVl16yA_",
        "outputId": "a5a182d5-04d5-4ae6-c923-e31caf89905b"
      },
      "execution_count": 8,
      "outputs": [
        {
          "output_type": "stream",
          "name": "stdout",
          "text": [
            "blue\n"
          ]
        }
      ]
    },
    {
      "cell_type": "code",
      "source": [
        "13. # Write a code to find the minimum number in the tuple (10, 20, 5, 15).\n",
        "\n",
        "\n",
        "numbers = (10, 20, 5, 15)\n",
        "minimum = min(numbers)\n",
        "print(minimum)"
      ],
      "metadata": {
        "colab": {
          "base_uri": "https://localhost:8080/"
        },
        "id": "9cnohxAi6x-n",
        "outputId": "d25d5d5c-9f7b-4454-fc04-dde2d9b543ef"
      },
      "execution_count": 9,
      "outputs": [
        {
          "output_type": "stream",
          "name": "stdout",
          "text": [
            "5\n"
          ]
        }
      ]
    },
    {
      "cell_type": "code",
      "source": [
        "14. # Write a code to find the index of the element \"cat\" in the tuple ('dog', 'cat', 'rabbit').\n",
        "\n",
        "animals = ('dog', 'cat', 'rabbit')\n",
        "index = animals.index('cat')\n",
        "print(index)\n",
        "\n",
        "\n",
        "\n"
      ],
      "metadata": {
        "colab": {
          "base_uri": "https://localhost:8080/"
        },
        "id": "fe6FzKKe6x7g",
        "outputId": "7708c7e6-ecee-4276-9025-677b238100b8"
      },
      "execution_count": 10,
      "outputs": [
        {
          "output_type": "stream",
          "name": "stdout",
          "text": [
            "1\n"
          ]
        }
      ]
    },
    {
      "cell_type": "code",
      "source": [
        "15.# Write a code to create a tuple containing three different fruits and check if \"kiwi\" is in it\n",
        "\n",
        "\n",
        "\n",
        "fruits = ('apple', 'banana', 'orange')\n",
        "is_kiwi_in_tuple = 'kiwi' in fruits\n",
        "print(is_kiwi_in_tuple)"
      ],
      "metadata": {
        "colab": {
          "base_uri": "https://localhost:8080/"
        },
        "id": "IPqQMnT36x4T",
        "outputId": "99d26119-546b-4d99-bf99-c914fc3187bb"
      },
      "execution_count": 11,
      "outputs": [
        {
          "output_type": "stream",
          "name": "stdout",
          "text": [
            "False\n"
          ]
        }
      ]
    },
    {
      "cell_type": "code",
      "source": [
        "16.#Write a code to create a set with the elements 'a', 'b', 'c' and print it\n",
        "\n",
        "\n",
        "letters = {'a', 'b', 'c'}\n",
        "print(letters)"
      ],
      "metadata": {
        "colab": {
          "base_uri": "https://localhost:8080/"
        },
        "id": "NArFP9Gl8QEQ",
        "outputId": "099b46c3-3605-49e9-d088-0c65277f09e9"
      },
      "execution_count": 12,
      "outputs": [
        {
          "output_type": "stream",
          "name": "stdout",
          "text": [
            "{'c', 'b', 'a'}\n"
          ]
        }
      ]
    },
    {
      "cell_type": "code",
      "source": [
        "17.# Write a code to clear all elements from the set {1, 2, 3, 4, 5}.\n",
        "\n",
        "numbers = {1, 2, 3, 4, 5}\n",
        "numbers.clear()\n",
        "print(numbers)"
      ],
      "metadata": {
        "colab": {
          "base_uri": "https://localhost:8080/"
        },
        "id": "Qz16tZSW8P_N",
        "outputId": "e9a129bc-3ae3-4aa6-bc31-868042ea0942"
      },
      "execution_count": 13,
      "outputs": [
        {
          "output_type": "stream",
          "name": "stdout",
          "text": [
            "set()\n"
          ]
        }
      ]
    },
    {
      "cell_type": "code",
      "source": [
        "18.# Write a code to remove the element 4 from the set {1, 2, 3, 4}.\n",
        "\n",
        "numbers = {1, 2, 3, 4}\n",
        "numbers.remove(4)\n",
        "print(numbers)"
      ],
      "metadata": {
        "colab": {
          "base_uri": "https://localhost:8080/"
        },
        "id": "p_VK6mp18P8l",
        "outputId": "6b0a70b1-9e59-4704-f86e-53cda41bc54e"
      },
      "execution_count": 14,
      "outputs": [
        {
          "output_type": "stream",
          "name": "stdout",
          "text": [
            "{1, 2, 3}\n"
          ]
        }
      ]
    },
    {
      "cell_type": "code",
      "source": [
        "19. # Write a code to find the union of two sets {1, 2, 3} and {3, 4, 5}.\n",
        "\n",
        "set1 = {1, 2, 3}\n",
        "set2 = {3, 4, 5}\n",
        "union = set1.union(set2)\n",
        "print(union)"
      ],
      "metadata": {
        "colab": {
          "base_uri": "https://localhost:8080/"
        },
        "id": "F5Av9zS48P59",
        "outputId": "443d3b6b-2ccc-4a3e-9001-67cc1d133bb3"
      },
      "execution_count": 15,
      "outputs": [
        {
          "output_type": "stream",
          "name": "stdout",
          "text": [
            "{1, 2, 3, 4, 5}\n"
          ]
        }
      ]
    },
    {
      "cell_type": "code",
      "source": [
        "20.#Write a code to find the intersection of two sets {1, 2, 3} and {2, 3, 4}.\n",
        "\n",
        "set1 = {1, 2, 3}\n",
        "set2 = {2, 3, 4}\n",
        "intersection = set1.intersection(set2)\n",
        "print(intersection)"
      ],
      "metadata": {
        "colab": {
          "base_uri": "https://localhost:8080/"
        },
        "id": "VjGnolu08P3i",
        "outputId": "71b099c8-a6ac-4d73-a593-d769ba05862a"
      },
      "execution_count": 16,
      "outputs": [
        {
          "output_type": "stream",
          "name": "stdout",
          "text": [
            "{2, 3}\n"
          ]
        }
      ]
    },
    {
      "cell_type": "code",
      "source": [
        "21.#Write a code to create a dictionary with the keys \"name\", \"age\", and \"city\", and print it\n",
        "\n",
        "person = {\"name\": \"pallavi\", \"age\": 25, \"city\": \"mumbai\"}\n",
        "print(person)"
      ],
      "metadata": {
        "colab": {
          "base_uri": "https://localhost:8080/"
        },
        "id": "ZH0eU5VU8P1T",
        "outputId": "cf672207-9edf-4d2c-9401-744b808a87a8"
      },
      "execution_count": 17,
      "outputs": [
        {
          "output_type": "stream",
          "name": "stdout",
          "text": [
            "{'name': 'pallavi', 'age': 25, 'city': 'mumbai'}\n"
          ]
        }
      ]
    },
    {
      "cell_type": "code",
      "source": [
        "22.# Write a code to add a new key-value pair \"country\": \"USA\" to the dictionary {'name': 'John', 'age': 25}\n",
        "\n",
        "person = {'name': 'John', 'age': 25}\n",
        "person['country'] = 'USA'\n",
        "print(person)"
      ],
      "metadata": {
        "colab": {
          "base_uri": "https://localhost:8080/"
        },
        "id": "ZY6H7bKA8Pyd",
        "outputId": "92f69623-e396-43ff-e0b3-ab68cbda1460"
      },
      "execution_count": 18,
      "outputs": [
        {
          "output_type": "stream",
          "name": "stdout",
          "text": [
            "{'name': 'John', 'age': 25, 'country': 'USA'}\n"
          ]
        }
      ]
    },
    {
      "cell_type": "code",
      "source": [
        "23.#. Write a code to access the value associated with the key \"name\" in the dictionary {'name': 'Alice', 'age': 30}.\n",
        "\n",
        "person = {'name': 'Alice', 'age': 30}\n",
        "name_value = person['name']\n",
        "print(name_value)"
      ],
      "metadata": {
        "colab": {
          "base_uri": "https://localhost:8080/"
        },
        "id": "0bdYmDUG8PwH",
        "outputId": "81c26710-2cf8-4f69-9ceb-eb97313968f4"
      },
      "execution_count": 19,
      "outputs": [
        {
          "output_type": "stream",
          "name": "stdout",
          "text": [
            "Alice\n"
          ]
        }
      ]
    },
    {
      "cell_type": "code",
      "source": [
        "24.#. Write a code to remove the key \"age\" from the dictionary {'name': 'Bob', 'age': 22, 'city': 'New York'}.\n",
        "\n",
        "person = {'name': 'Bob', 'age': 22, 'city': 'New York'}\n",
        "del person['age']\n",
        "print(person)"
      ],
      "metadata": {
        "colab": {
          "base_uri": "https://localhost:8080/"
        },
        "id": "Dlr6ODgz8Ptl",
        "outputId": "dcb4e997-7578-4fd2-a7df-909033e38a5e"
      },
      "execution_count": 20,
      "outputs": [
        {
          "output_type": "stream",
          "name": "stdout",
          "text": [
            "{'name': 'Bob', 'city': 'New York'}\n"
          ]
        }
      ]
    },
    {
      "cell_type": "code",
      "source": [
        "25.# Write a code to check if the key \"city\" exists in the dictionary {'name': 'Alice', 'city': 'Paris'}\n",
        "\n",
        "person = {'name': 'Alice', 'city': 'Paris'}\n",
        "city_exists = 'city' in person\n",
        "print(city_exists)"
      ],
      "metadata": {
        "colab": {
          "base_uri": "https://localhost:8080/"
        },
        "id": "tLVybNil8PrG",
        "outputId": "ffb4ccfa-5518-4432-c105-bfaf20b6b8fd"
      },
      "execution_count": 21,
      "outputs": [
        {
          "output_type": "stream",
          "name": "stdout",
          "text": [
            "True\n"
          ]
        }
      ]
    },
    {
      "cell_type": "code",
      "source": [
        "26.# Write a code to create a list, a tuple, and a dictionary, and print them all.\n",
        "\n",
        "my_list = [1, 2, 3]\n",
        "my_tuple = (4, 5, 6)\n",
        "my_dict = {'a': 1, 'b': 2, 'c': 3}\n",
        "\n",
        "print(\"List:\", my_list)\n",
        "print"
      ],
      "metadata": {
        "colab": {
          "base_uri": "https://localhost:8080/"
        },
        "id": "4bmILYU18Poh",
        "outputId": "ceda29cd-cdc0-471f-877a-de3531b9f6ef"
      },
      "execution_count": 22,
      "outputs": [
        {
          "output_type": "stream",
          "name": "stdout",
          "text": [
            "List: [1, 2, 3]\n"
          ]
        },
        {
          "output_type": "execute_result",
          "data": {
            "text/plain": [
              "<function print(*args, sep=' ', end='\\n', file=None, flush=False)>"
            ]
          },
          "metadata": {},
          "execution_count": 22
        }
      ]
    },
    {
      "cell_type": "code",
      "source": [
        "27.#7. Write a code to create a list of 5 random numbers between 1 and 100, sort it in ascending order, and print the result(replace)\n",
        "\n",
        "import random\n",
        "\n",
        "random_numbers = [random.randint(1, 100) for _ in range(5)]\n",
        "random_numbers.sort()\n",
        "print(random_numbers)"
      ],
      "metadata": {
        "colab": {
          "base_uri": "https://localhost:8080/"
        },
        "id": "k6d3nwON8Plb",
        "outputId": "257303d2-b88b-43f4-d2df-f9c2323ab0fc"
      },
      "execution_count": 25,
      "outputs": [
        {
          "output_type": "stream",
          "name": "stdout",
          "text": [
            "[2, 5, 17, 66, 80]\n"
          ]
        }
      ]
    },
    {
      "cell_type": "code",
      "source": [
        "28.# Write a code to create a list with strings and print the element at the third index\n",
        "\n",
        "strings = [\"apple\", \"banana\", \"cherry\", \"date\", \"elderberry\"]\n",
        "third_element = strings[2]\n",
        "print(third_element)"
      ],
      "metadata": {
        "colab": {
          "base_uri": "https://localhost:8080/"
        },
        "id": "E-gPaENh8Pgx",
        "outputId": "8d6ee612-0192-4060-81ee-cccd4b2adc10"
      },
      "execution_count": 26,
      "outputs": [
        {
          "output_type": "stream",
          "name": "stdout",
          "text": [
            "cherry\n"
          ]
        }
      ]
    },
    {
      "cell_type": "code",
      "source": [
        "29.# Write a code to combine two dictionaries into one and print the result\n",
        "\n",
        "dict1 = {'a': 1, 'b': 2}\n",
        "dict2 = {'c': 3, 'd': 4}\n",
        "combined_dict = {**dict1, **dict2}\n",
        "print(combined_dict)"
      ],
      "metadata": {
        "colab": {
          "base_uri": "https://localhost:8080/"
        },
        "id": "C3Vp0ZHs8PcA",
        "outputId": "5049a93c-74ef-47fd-f8ed-d8209837d42b"
      },
      "execution_count": 27,
      "outputs": [
        {
          "output_type": "stream",
          "name": "stdout",
          "text": [
            "{'a': 1, 'b': 2, 'c': 3, 'd': 4}\n"
          ]
        }
      ]
    },
    {
      "cell_type": "code",
      "source": [
        "30.#. Write a code to convert a list of strings into a set\n",
        "\n",
        "strings = [\"apple\", \"banana\", \"cherry\", \"banana\", \"date\"]\n",
        "string_set = set(strings)\n",
        "print(string_set)"
      ],
      "metadata": {
        "colab": {
          "base_uri": "https://localhost:8080/"
        },
        "id": "rJWzppcN8PWg",
        "outputId": "a9ad54a8-af8f-4771-b055-63d29a5470b3"
      },
      "execution_count": 28,
      "outputs": [
        {
          "output_type": "stream",
          "name": "stdout",
          "text": [
            "{'date', 'apple', 'banana', 'cherry'}\n"
          ]
        }
      ]
    },
    {
      "cell_type": "code",
      "source": [],
      "metadata": {
        "id": "Y1vv0RbN8PRK"
      },
      "execution_count": null,
      "outputs": []
    },
    {
      "cell_type": "markdown",
      "source": [],
      "metadata": {
        "id": "eAshwcAGyMOJ"
      }
    },
    {
      "cell_type": "code",
      "execution_count": null,
      "metadata": {
        "id": "raL2ePNGrniU"
      },
      "outputs": [],
      "source": []
    }
  ]
}